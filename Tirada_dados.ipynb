{
  "nbformat": 4,
  "nbformat_minor": 0,
  "metadata": {
    "colab": {
      "name": "Tirada_dados.ipynb",
      "provenance": [],
      "include_colab_link": true
    },
    "kernelspec": {
      "display_name": "Python 3",
      "name": "python3"
    }
  },
  "cells": [
    {
      "cell_type": "markdown",
      "metadata": {
        "id": "view-in-github",
        "colab_type": "text"
      },
      "source": [
        "<a href=\"https://colab.research.google.com/github/gocolman-uru/python-scripts/blob/main/Tirada_dados.ipynb\" target=\"_parent\"><img src=\"https://colab.research.google.com/assets/colab-badge.svg\" alt=\"Open In Colab\"/></a>"
      ]
    },
    {
      "cell_type": "code",
      "metadata": {
        "id": "1bOV-J0mxiqp",
        "colab": {
          "background_save": true
        }
      },
      "source": [
        "import random\n"
      ],
      "execution_count": null,
      "outputs": []
    },
    {
      "cell_type": "code",
      "metadata": {
        "id": "9ljnsXR8xkyK",
        "colab": {
          "background_save": true
        }
      },
      "source": [
        "def tirada():\n",
        "    print(\"----- BIENVENIDOS A LOS JUEGOS DE ALAMBRE -----\")\n",
        "    arranque = input(\"¿Queres jugar un rato a los dados?:  \")\n",
        "    \n",
        "    if arranque != \"no\":\n",
        "        print(\"!Sabelo! \")\n",
        "        print(\"Estos son los valores de los dados:\")\n",
        "        suma = 0\n",
        "        for _ in range(1,3,1):\n",
        "            dado = random.randrange(1, 7)\n",
        "            suma += dado\n",
        "\n",
        "            print(dado)\n",
        "        print(\"¡Sacaste!:\", suma)\n",
        "\n",
        "    devuelta = input(\"¿Otro más jugamos?:  \")\n",
        "    if devuelta != \"no\":\n",
        "        tirada()    \n",
        "    else: \n",
        "         print(\"¡grasias por participar!\")"
      ],
      "execution_count": null,
      "outputs": []
    },
    {
      "cell_type": "code",
      "metadata": {
        "id": "NkfN8Tk8xm6p",
        "colab": {
          "base_uri": "https://localhost:8080/"
        },
        "outputId": "91e750ed-3091-40f5-b4b0-f53b373dd468"
      },
      "source": [
        "tirada ()"
      ],
      "execution_count": null,
      "outputs": [
        {
          "output_type": "stream",
          "text": [
            "----- BIENVENIDOS A LOS JUEGOS DE ALAMBRE -----\n",
            "¿Queres jugar un rato a los dados?:  si\n",
            "!Sabelo! \n",
            "Estos son los valores de los dados:\n",
            "1\n",
            "4\n",
            "¡Sacaste!: 5\n"
          ],
          "name": "stdout"
        }
      ]
    }
  ]
}